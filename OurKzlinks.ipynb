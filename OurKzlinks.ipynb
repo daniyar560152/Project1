{
 "cells": [
  {
   "cell_type": "code",
   "execution_count": 2,
   "id": "10e5150f",
   "metadata": {},
   "outputs": [],
   "source": [
    "! pip install requests --upgrade --quiet"
   ]
  },
  {
   "cell_type": "code",
   "execution_count": 3,
   "id": "be637e6b",
   "metadata": {},
   "outputs": [],
   "source": [
    "import requests"
   ]
  },
  {
   "cell_type": "code",
   "execution_count": 4,
   "id": "f1de1c52",
   "metadata": {},
   "outputs": [],
   "source": [
    "books_url= 'https://www.meloman.kz/books/our-kazakhstan/'"
   ]
  },
  {
   "cell_type": "code",
   "execution_count": 5,
   "id": "11c21ac0",
   "metadata": {},
   "outputs": [],
   "source": [
    "response=requests.get(books_url)"
   ]
  },
  {
   "cell_type": "code",
   "execution_count": 10,
   "id": "a0830d08",
   "metadata": {},
   "outputs": [],
   "source": [
    "!pip install beautifulsoup4 --upgrade --quiet"
   ]
  },
  {
   "cell_type": "code",
   "execution_count": 11,
   "id": "ffd1df84",
   "metadata": {},
   "outputs": [],
   "source": [
    "from bs4 import BeautifulSoup"
   ]
  },
  {
   "cell_type": "code",
   "execution_count": 12,
   "id": "f6d989ca",
   "metadata": {},
   "outputs": [],
   "source": [
    "doc=BeautifulSoup(page_contents, 'html.parser')"
   ]
  },
  {
   "cell_type": "code",
   "execution_count": 44,
   "id": "c4e2260b",
   "metadata": {},
   "outputs": [],
   "source": [
    "book_a_tags=doc.find_all('a',{'class':\"product-item-link\"})"
   ]
  },
  {
   "cell_type": "code",
   "execution_count": 65,
   "id": "52234f7d",
   "metadata": {},
   "outputs": [
    {
     "name": "stdout",
     "output_type": "stream",
     "text": [
      "['Словарь казахско-русский, русско-казахский', 'Турсунов Е.: Курак корпе', 'Кэрролл Л.: Ғажайыптар еліндегі Алиса', 'Есенберлин І.: Мұхиттан өткен қайық', 'Мақатаев М.: Өмір дастан', 'Хайди (каз. яз)', 'Лондон Дж.: Мартин Иден (қазақ тілінде)', 'Турсунов Е.: Жили-были (новая)', 'Тасибеков К.: Ситуативный казахский. Диалоги.', 'Құттықадам С.: Ұлтқа қызмет ету: мемлекет басқарудың әлемдік 10 мысалы', 'Kazakhstan. Roundshot Panoramic Scenec', 'Мұртаза Ш.: Интернат наны', 'Турсунов Е. \"Билет в один конец\"', 'Қазақ ертегілерінің антологиясы: Ерте, ерте, ертеде ...', 'Қазақстан Республикасының Конституциясы 2021ж.', 'Ауэзов М.: Путь Абая  1 кн. (Том 1-2)', 'Линдгрен А.: Ұзыншұлық Пиппи', 'Шонбай К. : Не будь вторым!', 'Соқпақбаев Б.: Өлгендер қайтып келмейді', 'Лондон Дж.: Теңіз қорқауы', 'Әріптермен танысу. Дыбыстар мен әріптер', 'Әліппеш. Сауат ашу', 'Биекенов С.: 2050', 'Носов Н. Н.: Дымбілмес Күн қаласында', 'Қошым-Ноғай Б.: Әліппе', 'Есенберлин И.: Кочевники.', 'Уголовный кодекс Республики Казахстан. 2021 г.', 'Жәндіктер туралы ертегілер / Сказки о насекомых (каз. яз)', 'Твен М.: Гекльберри Финнің басынан кешкендері', 'Есенберлин І.: Көшпенділер. Қаһар', 'Есенберлин І.: Көшпенділер. Алмас қылыш', 'Тастекей Д.: Өте маңызды', 'Тоғыз кұйрықты ақ түлкі', 'Кодекс О здоровье народа и системе здравоохранения 2021 г.', 'Бернетт Ф. Э. Х.: Құпия бақ', 'Ер Төстік', 'Шонбай Қ., Бердібайұлы М.: Бизнес симфония', 'Адайбекова А. А., Кузнецова Н. В.: Путешествие в театр с Гульфайрус Исмаиловой', 'Шонбай Қ.: Бізге айтылмаған Q-π-Я (Құпия)', 'Роулиң Ж.: Хәрри Поттер мен Азкабан тұтқыны', 'Гаврильев К. А.: Әліппе 3D', 'Соқпақбаев Б.: Балалық шаққа саяхат', 'Бөкей О.: Қар қызы', 'Куттыкадам С.: Служение нации: 10 мировых примеров управления государством. 4 издание.', 'Турсунов Е. \"Семь майских дней\"', 'Бектаев Қ.: Большой казахско-русский русско-казахский словарь', 'Сатпаев Д.: Деформация вертикали', 'Бексұлтан Қазыбек: ҚазақMan Batyr', 'Момышұлы Б., Серебрянский Ю.: Қара жұлдыз', 'Момышұлы Бауыржан: Ұшқан ұя (жұмсақ мұқаба)', 'Лола-мұз кәмпит перизаты', 'Қоршаған ортаны тану. Менің алғашқы сөздерімнің ағылшынша атауы', 'Есенберлин І.: Көшпенділер.', 'Гражданский кодекс Республики Казахстан. 2021 г.', 'Нұршайықов Ә.: Махаббат, қызық мол жылдар (жұмсақ мұқаба)', 'Сауытбай Р.: Шоко әлем', 'Шарман А.: Восемь секретов здоровья: исповедь современного номада', 'Дефо Д.: Робинзон Крузо. Шытырман оқиғалар', 'Тынибеков А.: Исполины. Исторический роман. Книга 2. Дантал', 'Линдгрен А.: Ұзыншұлық Пиппи Коратуттутт аралында', 'Гримм В., Гримм Я.: Ертегілер жинағы', 'Ақиқат Рас: Ертеңгімелер', 'Олкотт Л. М.: Кішкентай ханымдар', 'Қазақстан Республикасының еңбек кодексі. 2021 ж.', 'Сегизбаев Д.: 55 невыдуманных историй', 'Әлімжанов Б.: Өлең-әліппе', 'Клейсон Дж.: Вавилондағы ең бай адам', 'Есенаман К.: Баянауыл - Чимкент', 'Әй Әй Әліппе  / Азбука в стихах', 'Көңілді жауапқұмар', 'Наурзбаева З., Калаус Л.: Приключения Бату и его друзей в стране Барсакелмес', 'Сүйікті ертегі: Бауырсақ', 'Техникамен таныс', 'Алғашқы қадамдар: Фермада', 'Турсунов Е.: Мамлюк', 'Соқпақбаев Б.: Менің атым Қожа', 'Жедел жәрдем көрсету көлігі (Скорая помощь)', 'Сейдимбеков А.: Алпамыс батыр: казахский героический эпос', 'Солнышко И.: Санауды үйренеміз', 'Ертайұлы Е.: Баланы жазасыз тәрбиеле', 'Сапарбаев М.: Бақыт. Күнделік', 'Мұртаза Ш.: Сүдігерде изен ызыңдайды', 'Ертайұлы Е.: Жұбайыңның жүрегін жаралама//жаула', 'Бұқарбай Б.: Күміс кітап. 4-басылым.', 'Линдгрен А.: Ұзыншұлық Пиппи достарымен бірге', 'Құрманәлиева Ә.: Ерекше дәмді десерттер мен тоқаштар', 'Жәлелұлы О.: Харекет. Зерттеу мақалалар (жаңа MP)', 'Иллюстрированный путеводитель по смыслам Алматы', 'Ысқақ Қ.: Қоңыр күз еді', 'Мақатаев М.: Шығармалар  жинағы', 'Күн астындағы Күнікей қыз: қазақ халық ертегілері', 'Носов Н. Н.: Дымбілместің айға саяхаты', 'Гюго В.: Аласталғандар. 1 том', 'Бексұлтан Қазыбек: ҚазақMan Batyr. Шығарылым 3', 'Мақатаев М.: Өмір - өзен', 'Бекжігітова К.: Жақсы сөз жарым ырыс', 'Роулиң Ж.: Хәрри Поттер мен От сауыт', 'Нурпеисов А. К.: Кровь и Пот', 'Жалқау мысық', 'Бексұлтан Қазыбек: ҚазақMan Batyr. Шығарылым 2']\n"
     ]
    }
   ],
   "source": [
    "book_titles=[]\n",
    "for tag in book_a_tags:\n",
    "    book_titles.append(tag.text.strip())\n",
    "print(book_titles)"
   ]
  },
  {
   "cell_type": "code",
   "execution_count": 66,
   "id": "a9bb5d3d",
   "metadata": {},
   "outputs": [
    {
     "name": "stdout",
     "output_type": "stream",
     "text": [
      "['1 150 ₸', '2 590 ₸', '2 550 ₸', '3 250 ₸', '1 290 ₸', '590 ₸', '3 750 ₸', '2 990 ₸', '2 690 ₸', '2 250 ₸', '6 990 ₸', '1 190 ₸', '2 590 ₸', '2 090 ₸', '350 ₸', '2 990 ₸', '2 250 ₸', '3 500 ₸', '2 590 ₸', '2 500 ₸', '3 050 ₸', '1 190 ₸', '2 990 ₸', '3 590 ₸', '1 990 ₸', '4 990 ₸', '1 350 ₸', '590 ₸', '2 550 ₸', '2 990 ₸', '2 990 ₸', '3 990 ₸', '2 590 ₸', '1 590 ₸', '2 890 ₸', '4 790 ₸', '5 000 ₸', '2 890 ₸', '5 000 ₸', '5 690 ₸', '2 490 ₸', '1 950 ₸', '1 600 ₸', '2 750 ₸', '1 990 ₸', '8 000 ₸', '3 590 ₸', '990 ₸', '3 190 ₸', '2 150 ₸', '750 ₸', '3 350 ₸', '4 990 ₸', '1 670 ₸', '2 550 ₸', '3 750 ₸', '2 290 ₸', '2 790 ₸', '1 750 ₸', '2 250 ₸', '2 750 ₸', '1 990 ₸', '2 650 ₸', '890 ₸', '3 900 ₸', '1 850 ₸', '2 490 ₸', '3 490 ₸', '3 350 ₸', '750 ₸', '3 500 ₸', '850 ₸', '450 ₸', '1 390 ₸', '2 790 ₸', '1 400 ₸', '590 ₸', '2 250 ₸', '590 ₸', '3 500 ₸', '2 000 ₸', '1 090 ₸', '3 500 ₸', '2 990 ₸', '2 250 ₸', '5 290 ₸', '4 990 ₸', '2 990 ₸', '1 150 ₸', '3 990 ₸', '2 690 ₸', '4 250 ₸', '3 590 ₸', '990 ₸', '1 450 ₸', '3 000 ₸', '6 450 ₸', '6 450 ₸', '350 ₸', '990 ₸']\n"
     ]
    }
   ],
   "source": [
    "book_prices=[]\n",
    "for tag in book_span_tags:\n",
    "    book_prices.append(tag.text.replace(u'\\xa0', ' '))\n",
    "print(book_prices)"
   ]
  },
  {
   "cell_type": "code",
   "execution_count": 67,
   "id": "1d27646c",
   "metadata": {},
   "outputs": [
    {
     "data": {
      "text/plain": [
       "['https://www.meloman.kz/kazahstanskie-slovari-18731/slovar-kazahsko-russkiy-russko-kazahskiy.html',\n",
       " 'https://www.meloman.kz/sovremennaya-literatura-kazahstana-2/tursunov-e-ra-k-rpe.html',\n",
       " 'https://www.meloman.kz/hudozhestvennaya-literatyra-na-kazakhskom/kjerroll-l-azhajyptar-elindegi-alisa.html',\n",
       " 'https://www.meloman.kz/calssics-in-kazakh-language/esenberlin-i-m-hittan-tken-ajy.html',\n",
       " 'https://www.meloman.kz/calssics-in-kazakh-language/maataev-m-mir-dastan.html',\n",
       " 'https://www.meloman.kz/malysham-na-kazakhskom/hajdi-kaz-jaz.html',\n",
       " 'https://www.meloman.kz/fiction/london-dzh-martin-iden-aza-tilinde.html',\n",
       " 'https://www.meloman.kz/kazahstan-politika-i-publicistika/tursunov-e-zhili-byli-novaja.html',\n",
       " 'https://www.meloman.kz/kazahstanskie-slovari-18731/tasibekov-k-situativnyy-kazahskiy-dialogi.html',\n",
       " 'https://www.meloman.kz/kazahstan-politika-i-publicistika/tty-adam-s-lt-a-yzmet-etu-memleket-bas-arudy-lemdik-10-mysaly.html',\n",
       " 'https://www.meloman.kz/podarochnye-knigi-i-fotoalbomy/kazakhstan-roundshot-panoramic-scenec.html',\n",
       " 'https://www.meloman.kz/sovremennaya-literatura-kazahstana-2/m-rtaza-sh-internat-nany.html',\n",
       " 'https://www.meloman.kz/sovremennaya-literatura-kazahstana-2/tursunov-e-bilet-v-odin-konec-1198156.html',\n",
       " 'https://www.meloman.kz/malysham-na-kazakhskom/erteerteertede.html',\n",
       " 'https://www.meloman.kz/legal-literature/aza-stan-respublikasyny-konstitucijasy-2021zh.html',\n",
       " 'https://www.meloman.kz/calssics-in-kazakh-language/aujezov-m-put-abaja-1-kn-tom-1-2.html',\n",
       " 'https://www.meloman.kz/hudozhestvennaya-literatyra-na-kazakhskom/lindgren-a-zynsh-ly-pippi.html',\n",
       " 'https://www.meloman.kz/delovaya-literatyra-kazakhstana/shonbaj-k-ne-bud-vtorym.html',\n",
       " 'https://www.meloman.kz/calssics-in-kazakh-language/so-pa-baev-b-lgender-ajtyp-kelmejdi.html',\n",
       " 'https://www.meloman.kz/fiction/london-dzh-te-iz-or-auy.html',\n",
       " 'https://www.meloman.kz/malysham-na-kazakhskom/riptermen-tanysu-dybystar-men-ripter-2256463.html',\n",
       " 'https://www.meloman.kz/malysham-na-kazakhskom/lippesh-sauat-ashu.html',\n",
       " 'https://www.meloman.kz/sovremennaya-literatura-kazahstana-2/biekenov-s-2050.html',\n",
       " 'https://www.meloman.kz/hudozhestvennaya-literatyra-na-kazakhskom/nosov-n-n-dymbilmes-k-n-alasynda.html',\n",
       " 'https://www.meloman.kz/malysham-na-kazakhskom/bajbota-oshym-no-aj-lippe.html',\n",
       " 'https://www.meloman.kz/calssics-in-kazakh-language/esenberlin-i-kochevniki.html',\n",
       " 'https://www.meloman.kz/legal-literature/ugolovnyj-kodeks-respubliki-kazahstan-2021-g.html',\n",
       " 'https://www.meloman.kz/malysham-na-kazakhskom/zh-ndikter-turaly-ertegiler-skazki-o-nasekomyh-kaz-jaz.html',\n",
       " 'https://www.meloman.kz/fiction/tven-m-gekl-berri-finni-basynan-keshkenderi.html',\n",
       " 'https://www.meloman.kz/calssics-in-kazakh-language/esenberlin-i-a-ar-k-shpendiler.html',\n",
       " 'https://www.meloman.kz/calssics-in-kazakh-language/esenberlin-i-k-shpendiler-almas-ylysh.html',\n",
       " 'https://www.meloman.kz/delovaya-literatyra-kazakhstana/tastekej-d-te-ma-yzdy.html',\n",
       " 'https://www.meloman.kz/hudozhestvennaya-literatyra-na-kazakhskom/to-yz-k-jry-ty-a-t-lki.html',\n",
       " 'https://www.meloman.kz/legal-literature/kodeks-o-zdorov-e-naroda-i-sisteme-zdravoohranenija-2021-g.html',\n",
       " 'https://www.meloman.kz/hudozhestvennaya-literatyra-na-kazakhskom/bernett-f-je-h-pija-ba.html',\n",
       " 'https://www.meloman.kz/hudozhestvennaya-literatyra-na-kazakhskom/er-t-stik.html',\n",
       " 'https://www.meloman.kz/delovaya-literatyra-kazakhstana/shonbaj-berdibaj-ly-m-biznes-simfonija.html',\n",
       " 'https://www.meloman.kz/hudozhestvennaya-literatyra-na-kazakhskom/adajbekova-a-a-kuznecova-n-v-puteshestvie-v-teatr-s-gul-fajrus-ismailovoj.html',\n",
       " 'https://www.meloman.kz/delovaya-literatyra-kazakhstana/shonbaj-bizge-ajtylma-an-q-p-ja-pija.html',\n",
       " 'https://www.meloman.kz/hudozhestvennaya-literatyra-na-kazakhskom/rouli-zh-h-rri-potter-men-azkaban-t-t-yny.html',\n",
       " 'https://www.meloman.kz/malysham-na-kazakhskom/gavril-ev-k-a-lippe-3d.html',\n",
       " 'https://www.meloman.kz/hudozhestvennaya-literatyra-na-kazakhskom/so-pa-baev-b-balaly-sha-a-sajahat.html',\n",
       " 'https://www.meloman.kz/calssics-in-kazakh-language/b-kej-o-ar-yzy.html',\n",
       " 'https://www.meloman.kz/kazahstan-politika-i-publicistika/kuttykadam-s-sluzhenie-nacii-10-mirovyh-primerov-upravlenija-gosudarstvom-4-izdanie.html',\n",
       " 'https://www.meloman.kz/sovremennaya-literatura-kazahstana-2/tursunov-e-sem-majskih-dnej.html',\n",
       " 'https://www.meloman.kz/kazahstanskie-slovari-18731/bektaev-bol-shoj-kazahsko-russkij-russko-kazahskij-slovar.html',\n",
       " 'https://www.meloman.kz/kazahstan-politika-i-publicistika/satpaev-d-deformacija-vertikali.html',\n",
       " 'https://www.meloman.kz/hudozhestvennaya-literatyra-na-kazakhskom/beks-ltan-azybek-aza-man-batyr.html',\n",
       " 'https://www.meloman.kz/sovremennaya-literatura-kazahstana-2/momysh-ly-b-serebrjanskij-ju-ara-zh-ldyz.html',\n",
       " 'https://www.meloman.kz/calssics-in-kazakh-language/momysh-ly-bauyrzhan-sh-an-ja-zh-msa-m-aba.html',\n",
       " 'https://www.meloman.kz/malysham-na-kazakhskom/lola-mz-kmpit-perizaty.html',\n",
       " 'https://www.meloman.kz/malysham-na-kazakhskom/orshaan-ortany-tanu-meni-alashy-2256464.html',\n",
       " 'https://www.meloman.kz/calssics-in-kazakh-language/esenberlin-i-k-shpendiler.html',\n",
       " 'https://www.meloman.kz/legal-literature/grazhdanskij-kodeks-respubliki-kazahstan-2021-g.html',\n",
       " 'https://www.meloman.kz/calssics-in-kazakh-language/n-rshajy-ov-mahabbat-yzy-mol-zhyldar.html',\n",
       " 'https://www.meloman.kz/hudozhestvennaya-literatyra-na-kazakhskom/sauytbaj-rustem-shoko-lem.html',\n",
       " 'https://www.meloman.kz/nehudojestvennaja-literatura/almaz-sharman-vosem-sekretov-zdorov-ja-ispoved-sovremennogo-nomada.html',\n",
       " 'https://www.meloman.kz/fiction/daniel-defo-robinzon-kruzo-1701238.html',\n",
       " 'https://www.meloman.kz/sovremennaya-literatura-kazahstana-2/tynibekov-a-ispoliny-istoricheskij-roman-kniga-2-dantal.html',\n",
       " 'https://www.meloman.kz/hudozhestvennaya-literatyra-na-kazakhskom/lindgren-a-zynsh-ly-pippi-koratuttutt-aralynda.html',\n",
       " 'https://www.meloman.kz/hudozhestvennaya-literatyra-na-kazakhskom/grimm-v-grimm-ja-ertegiler-zhina-y.html',\n",
       " 'https://www.meloman.kz/sovremennaya-literatura-kazahstana-2/a-i-at-ras-erte-gimeler.html',\n",
       " 'https://www.meloman.kz/fiction/olkott-l-m-kishkentaj-hanymdar.html',\n",
       " 'https://www.meloman.kz/legal-literature/aza-stan-respublikasyny-e-bek-kodeksi-2021-zh.html',\n",
       " 'https://www.meloman.kz/sovremennaya-literatura-kazahstana-2/segizbaev-d-55-nevydumannyh-istorij.html',\n",
       " 'https://www.meloman.kz/malysham-na-kazakhskom/limzhanov-b-le-lippe.html',\n",
       " 'https://www.meloman.kz/delovaya-literatyra-kazakhstana/klejson-dzh-vavilonda-y-e-baj-adam.html',\n",
       " 'https://www.meloman.kz/sovremennaya-literatura-kazahstana-2/esenaman-k-bajanauyl-chimkent.html',\n",
       " 'https://www.meloman.kz/malysham-na-kazakhskom/y-y-lippe-azbuka-v-stihah.html',\n",
       " 'https://www.meloman.kz/malysham-na-kazakhskom/konyldy-jauapkumar.html',\n",
       " 'https://www.meloman.kz/hudozhestvennaya-literatyra-na-kazakhskom/nauryzbaeva-z-kalaus-l-prikljuchenija-batu-i-ego-druzej-v-strane-barsakelmes.html',\n",
       " 'https://www.meloman.kz/malysham-na-kazakhskom/s-jikti-ertegi-bauyrsa.html',\n",
       " 'https://www.meloman.kz/malysham-na-kazakhskom/tehnikamen-tanys-2260353.html',\n",
       " 'https://www.meloman.kz/malysham-na-kazakhskom/al-ash-y-adamdar-fermada.html',\n",
       " 'https://www.meloman.kz/sovremennaya-literatura-kazahstana-2/tursunov-e-mamlyuk.html',\n",
       " 'https://www.meloman.kz/hudozhestvennaya-literatyra-na-kazakhskom/so-pa-baev-b-meni-atym-ozha-1185505.html',\n",
       " 'https://www.meloman.kz/malysham-na-kazakhskom/zhedel-zh-rdem-k-rsetu-k-ligi-skoraja-pomosch.html',\n",
       " 'https://www.meloman.kz/hudozhestvennaya-literatyra-na-kazakhskom/sejdimbekova-akseleu-alpamys-batyr-kazahskij-geroicheskij-jepos.html',\n",
       " 'https://www.meloman.kz/malysham-na-kazakhskom/solnyshko-i-uchimsja-vmeste-sanaudy-jrenemiz.html',\n",
       " 'https://www.meloman.kz/psihologiya-pedagogika/ertaj-ly-elzhas-balany-zhazasyz-t-rbiele.html',\n",
       " 'https://www.meloman.kz/psihologiya-pedagogika/saparbaev-m-ba-yt-k-ndelik.html',\n",
       " 'https://www.meloman.kz/sovremennaya-literatura-kazahstana-2/m-rtaza-sh-s-digerde-izen-yzy-dajdy.html',\n",
       " 'https://www.meloman.kz/psihologiya-pedagogika/ertaj-ly-e-zh-bajy-ny-zh-regin-zharalama-zhaula.html',\n",
       " 'https://www.meloman.kz/kultura-i-iskusstvo-kazahstana/b-arbaj-b-k-mis-kitap-4-basylym.html',\n",
       " 'https://www.meloman.kz/hudozhestvennaya-literatyra-na-kazakhskom/lindgren-a-zynsh-ly-pippi-dostarymen-birge.html',\n",
       " 'https://www.meloman.kz/nehudojestvennaja-literatura/rman-lieva-erekshe-d-mdi-desertter-men-to-ashtar.html',\n",
       " 'https://www.meloman.kz/kultura-i-iskusstvo-kazahstana/zh-lel-ly-o-hareket-zertteu-ma-alalar.html',\n",
       " 'https://www.meloman.kz/sovremennaya-literatura-kazahstana-2/illjustrirovannyj-putevoditel-po-smyslam-almaty.html',\n",
       " 'https://www.meloman.kz/sovremennaya-literatura-kazahstana-2/ys-a-o-yr-k-z-edi.html',\n",
       " 'https://www.meloman.kz/calssics-in-kazakh-language/ma-ataev-m-shy-armalar-zhina-y.html',\n",
       " 'https://www.meloman.kz/hudozhestvennaya-literatyra-na-kazakhskom/k-n-astynda-y-k-nikej-yz-aza-haly-ertegileri.html',\n",
       " 'https://www.meloman.kz/hudozhestvennaya-literatyra-na-kazakhskom/nosov-n-n-dymbilmesti-aj-a-sajahaty.html',\n",
       " 'https://www.meloman.kz/fiction/gjugo-v-alastal-andar.html',\n",
       " 'https://www.meloman.kz/hudozhestvennaya-literatyra-na-kazakhskom/beks-ltan-azybek-aza-man-batyr-shy-arylym-3.html',\n",
       " 'https://www.meloman.kz/calssics-in-kazakh-language/maataev-m-mir-zen-1691756.html',\n",
       " 'https://www.meloman.kz/psihologiya-pedagogika/bekzhigitova-k-zha-sy-s-z-zharym-yrys.html',\n",
       " 'https://www.meloman.kz/hudozhestvennaya-literatyra-na-kazakhskom/rouli-zh-h-rri-potter-men-ot-sauyt.html',\n",
       " 'https://www.meloman.kz/calssics-in-kazakh-language/nurpeisov-a-n-krov-i-pot.html',\n",
       " 'https://www.meloman.kz/malysham-na-kazakhskom/jalau-mysy.html',\n",
       " 'https://www.meloman.kz/hudozhestvennaya-literatyra-na-kazakhskom/beks-ltan-azybek-aza-man-batyr-shy-arylym-2.html']"
      ]
     },
     "execution_count": 67,
     "metadata": {},
     "output_type": "execute_result"
    }
   ],
   "source": [
    "each_book_urls=[]\n",
    "for tag in book_a_tags:\n",
    "    each_book_urls.append(tag['href'])\n",
    "each_book_urls"
   ]
  },
  {
   "cell_type": "code",
   "execution_count": 135,
   "id": "67c6dc08",
   "metadata": {},
   "outputs": [
    {
     "data": {
      "text/plain": [
       "100"
      ]
     },
     "execution_count": 135,
     "metadata": {},
     "output_type": "execute_result"
    }
   ],
   "source": [
    "len(each_book_urls)"
   ]
  },
  {
   "cell_type": "code",
   "execution_count": 68,
   "id": "f467af50",
   "metadata": {},
   "outputs": [],
   "source": [
    "!pip install pandas --quiet"
   ]
  },
  {
   "cell_type": "code",
   "execution_count": 69,
   "id": "f3717b22",
   "metadata": {},
   "outputs": [],
   "source": [
    "import pandas as pd"
   ]
  },
  {
   "cell_type": "code",
   "execution_count": 70,
   "id": "84244e1b",
   "metadata": {},
   "outputs": [],
   "source": [
    "books_dict={'Title':book_titles,\n",
    "           'Price':book_prices,\n",
    "           'URL':each_book_urls}"
   ]
  },
  {
   "cell_type": "code",
   "execution_count": 71,
   "id": "53edae7f",
   "metadata": {},
   "outputs": [],
   "source": [
    "books_df=pd.DataFrame(books_dict)"
   ]
  },
  {
   "cell_type": "code",
   "execution_count": 72,
   "id": "d8f00a6d",
   "metadata": {},
   "outputs": [
    {
     "data": {
      "text/html": [
       "<div>\n",
       "<style scoped>\n",
       "    .dataframe tbody tr th:only-of-type {\n",
       "        vertical-align: middle;\n",
       "    }\n",
       "\n",
       "    .dataframe tbody tr th {\n",
       "        vertical-align: top;\n",
       "    }\n",
       "\n",
       "    .dataframe thead th {\n",
       "        text-align: right;\n",
       "    }\n",
       "</style>\n",
       "<table border=\"1\" class=\"dataframe\">\n",
       "  <thead>\n",
       "    <tr style=\"text-align: right;\">\n",
       "      <th></th>\n",
       "      <th>Title</th>\n",
       "      <th>Price</th>\n",
       "      <th>URL</th>\n",
       "    </tr>\n",
       "  </thead>\n",
       "  <tbody>\n",
       "    <tr>\n",
       "      <th>0</th>\n",
       "      <td>Словарь казахско-русский, русско-казахский</td>\n",
       "      <td>1 150 ₸</td>\n",
       "      <td>https://www.meloman.kz/kazahstanskie-slovari-1...</td>\n",
       "    </tr>\n",
       "    <tr>\n",
       "      <th>1</th>\n",
       "      <td>Турсунов Е.: Курак корпе</td>\n",
       "      <td>2 590 ₸</td>\n",
       "      <td>https://www.meloman.kz/sovremennaya-literatura...</td>\n",
       "    </tr>\n",
       "    <tr>\n",
       "      <th>2</th>\n",
       "      <td>Кэрролл Л.: Ғажайыптар еліндегі Алиса</td>\n",
       "      <td>2 550 ₸</td>\n",
       "      <td>https://www.meloman.kz/hudozhestvennaya-litera...</td>\n",
       "    </tr>\n",
       "    <tr>\n",
       "      <th>3</th>\n",
       "      <td>Есенберлин І.: Мұхиттан өткен қайық</td>\n",
       "      <td>3 250 ₸</td>\n",
       "      <td>https://www.meloman.kz/calssics-in-kazakh-lang...</td>\n",
       "    </tr>\n",
       "    <tr>\n",
       "      <th>4</th>\n",
       "      <td>Мақатаев М.: Өмір дастан</td>\n",
       "      <td>1 290 ₸</td>\n",
       "      <td>https://www.meloman.kz/calssics-in-kazakh-lang...</td>\n",
       "    </tr>\n",
       "    <tr>\n",
       "      <th>...</th>\n",
       "      <td>...</td>\n",
       "      <td>...</td>\n",
       "      <td>...</td>\n",
       "    </tr>\n",
       "    <tr>\n",
       "      <th>95</th>\n",
       "      <td>Бекжігітова К.: Жақсы сөз жарым ырыс</td>\n",
       "      <td>3 000 ₸</td>\n",
       "      <td>https://www.meloman.kz/psihologiya-pedagogika/...</td>\n",
       "    </tr>\n",
       "    <tr>\n",
       "      <th>96</th>\n",
       "      <td>Роулиң Ж.: Хәрри Поттер мен От сауыт</td>\n",
       "      <td>6 450 ₸</td>\n",
       "      <td>https://www.meloman.kz/hudozhestvennaya-litera...</td>\n",
       "    </tr>\n",
       "    <tr>\n",
       "      <th>97</th>\n",
       "      <td>Нурпеисов А. К.: Кровь и Пот</td>\n",
       "      <td>6 450 ₸</td>\n",
       "      <td>https://www.meloman.kz/calssics-in-kazakh-lang...</td>\n",
       "    </tr>\n",
       "    <tr>\n",
       "      <th>98</th>\n",
       "      <td>Жалқау мысық</td>\n",
       "      <td>350 ₸</td>\n",
       "      <td>https://www.meloman.kz/malysham-na-kazakhskom/...</td>\n",
       "    </tr>\n",
       "    <tr>\n",
       "      <th>99</th>\n",
       "      <td>Бексұлтан Қазыбек: ҚазақMan Batyr. Шығарылым 2</td>\n",
       "      <td>990 ₸</td>\n",
       "      <td>https://www.meloman.kz/hudozhestvennaya-litera...</td>\n",
       "    </tr>\n",
       "  </tbody>\n",
       "</table>\n",
       "<p>100 rows × 3 columns</p>\n",
       "</div>"
      ],
      "text/plain": [
       "                                             Title    Price  \\\n",
       "0       Словарь казахско-русский, русско-казахский  1 150 ₸   \n",
       "1                         Турсунов Е.: Курак корпе  2 590 ₸   \n",
       "2            Кэрролл Л.: Ғажайыптар еліндегі Алиса  2 550 ₸   \n",
       "3              Есенберлин І.: Мұхиттан өткен қайық  3 250 ₸   \n",
       "4                         Мақатаев М.: Өмір дастан  1 290 ₸   \n",
       "..                                             ...      ...   \n",
       "95            Бекжігітова К.: Жақсы сөз жарым ырыс  3 000 ₸   \n",
       "96            Роулиң Ж.: Хәрри Поттер мен От сауыт  6 450 ₸   \n",
       "97                    Нурпеисов А. К.: Кровь и Пот  6 450 ₸   \n",
       "98                                    Жалқау мысық    350 ₸   \n",
       "99  Бексұлтан Қазыбек: ҚазақMan Batyr. Шығарылым 2    990 ₸   \n",
       "\n",
       "                                                  URL  \n",
       "0   https://www.meloman.kz/kazahstanskie-slovari-1...  \n",
       "1   https://www.meloman.kz/sovremennaya-literatura...  \n",
       "2   https://www.meloman.kz/hudozhestvennaya-litera...  \n",
       "3   https://www.meloman.kz/calssics-in-kazakh-lang...  \n",
       "4   https://www.meloman.kz/calssics-in-kazakh-lang...  \n",
       "..                                                ...  \n",
       "95  https://www.meloman.kz/psihologiya-pedagogika/...  \n",
       "96  https://www.meloman.kz/hudozhestvennaya-litera...  \n",
       "97  https://www.meloman.kz/calssics-in-kazakh-lang...  \n",
       "98  https://www.meloman.kz/malysham-na-kazakhskom/...  \n",
       "99  https://www.meloman.kz/hudozhestvennaya-litera...  \n",
       "\n",
       "[100 rows x 3 columns]"
      ]
     },
     "execution_count": 72,
     "metadata": {},
     "output_type": "execute_result"
    }
   ],
   "source": [
    "books_df"
   ]
  },
  {
   "cell_type": "code",
   "execution_count": 74,
   "id": "5df79c28",
   "metadata": {},
   "outputs": [],
   "source": [
    "books_df.to_csv('Our Kazakhstan.csv', index=None)"
   ]
  }
 ],
 "metadata": {
  "kernelspec": {
   "display_name": "Python 3 (ipykernel)",
   "language": "python",
   "name": "python3"
  },
  "language_info": {
   "codemirror_mode": {
    "name": "ipython",
    "version": 3
   },
   "file_extension": ".py",
   "mimetype": "text/x-python",
   "name": "python",
   "nbconvert_exporter": "python",
   "pygments_lexer": "ipython3",
   "version": "3.8.10"
  }
 },
 "nbformat": 4,
 "nbformat_minor": 5
}
