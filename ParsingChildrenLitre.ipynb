{
 "cells": [
  {
   "cell_type": "code",
   "execution_count": 43,
   "id": "22f0aec8",
   "metadata": {},
   "outputs": [],
   "source": [
    "from bs4 import BeautifulSoup\n",
    "import requests\n",
    "import pandas as pd"
   ]
  },
  {
   "cell_type": "code",
   "execution_count": 44,
   "id": "5ddb10a2",
   "metadata": {},
   "outputs": [
    {
     "name": "stdout",
     "output_type": "stream",
     "text": [
      "100\n",
      "200\n",
      "300\n",
      "400\n",
      "500\n",
      "600\n",
      "700\n",
      "800\n",
      "900\n",
      "1000\n",
      "1100\n",
      "1200\n",
      "1300\n",
      "1400\n",
      "1500\n",
      "1600\n",
      "1700\n",
      "1800\n",
      "1900\n",
      "2000\n",
      "2018\n"
     ]
    }
   ],
   "source": [
    "booksList = []\n",
    "def getBooks(tag, page):\n",
    "    url = f'https://www.meloman.kz/childrens-books/{tag}/?p={page}'\n",
    "    page = requests.get(url)\n",
    "    soup = BeautifulSoup(page.text, \"html.parser\")\n",
    "    books_children = soup.findAll('li', class_='item product product-item')\n",
    "    for item in books_children:\n",
    "        books = {\n",
    "        'Book name': item.find('a', class_= 'product-item-link').text,\n",
    "        'Price': item.find('span', class_='price-wrapper')['data-price-amount'],\n",
    "        'Price with discount': item.find('span', class_= 'special-price'),\n",
    "        'Discount': item.find('span', class_='astrio-overlay-discount-percent__percent'),\n",
    "        'Avalability': item.find('span', class_='product-item__stock-label').text,\n",
    "        'Category': item.find('a', class_='product-item-link')['data-category']\n",
    "        }\n",
    "        booksList.append(books)\n",
    "    return\n",
    "for x in range(1,22):\n",
    "    getBooks('books-for-teenagers', x)\n",
    "    print(len(booksList))"
   ]
  },
  {
   "cell_type": "code",
   "execution_count": 45,
   "id": "7d793d85",
   "metadata": {},
   "outputs": [],
   "source": [
    "df = pd.DataFrame(booksList)\n"
   ]
  },
  {
   "cell_type": "code",
   "execution_count": 48,
   "id": "907d4f98",
   "metadata": {},
   "outputs": [],
   "source": [
    "df.to_csv('meloman_books_teenage.csv', index = True)"
   ]
  },
  {
   "cell_type": "code",
   "execution_count": null,
   "id": "ad5de070",
   "metadata": {},
   "outputs": [],
   "source": [
    "\n"
   ]
  },
  {
   "cell_type": "code",
   "execution_count": null,
   "id": "c7d1ac46",
   "metadata": {},
   "outputs": [],
   "source": []
  }
 ],
 "metadata": {
  "kernelspec": {
   "display_name": "Python 3 (ipykernel)",
   "language": "python",
   "name": "python3"
  },
  "language_info": {
   "codemirror_mode": {
    "name": "ipython",
    "version": 3
   },
   "file_extension": ".py",
   "mimetype": "text/x-python",
   "name": "python",
   "nbconvert_exporter": "python",
   "pygments_lexer": "ipython3",
   "version": "3.7.4"
  }
 },
 "nbformat": 4,
 "nbformat_minor": 5
}
